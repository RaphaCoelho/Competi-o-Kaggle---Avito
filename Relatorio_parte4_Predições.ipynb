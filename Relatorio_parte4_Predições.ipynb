{
 "cells": [
  {
   "cell_type": "markdown",
   "metadata": {},
   "source": [
    "### Relatório Dataming - Avito Demand Prediction Challenge - Parte 4 - Predições com Regressão Logística e Linear\n",
    "\n",
    "#### Time:\n",
    "- Filipe Koop\n",
    "- Lucas Pérez\n",
    "- Raphael Coelho"
   ]
  },
  {
   "cell_type": "code",
   "execution_count": 2,
   "metadata": {},
   "outputs": [],
   "source": [
    "import pandas as pd\n",
    "import numpy as np\n",
    "\n",
    "from sklearn.naive_bayes import MultinomialNB\n",
    "from sklearn.linear_model import LogisticRegression\n",
    "from sklearn.linear_model import LinearRegression\n",
    "from sklearn.model_selection import train_test_split\n",
    "from sklearn.metrics import confusion_matrix"
   ]
  },
  {
   "cell_type": "code",
   "execution_count": 3,
   "metadata": {},
   "outputs": [],
   "source": [
    "dir = 'c:/_dados/_avito/'"
   ]
  },
  {
   "cell_type": "markdown",
   "metadata": {},
   "source": [
    "Para a última abordagem, optou-se por utilizar dois modelos de machine learning: regressão linear e regressão logística. Para isso foi utilizado a biblioteca sklearn juntamente com os dois modelos. Para tal aplicação, foi necessário um pré processamento na base. As variáveis alvo eram user_type e parent_category_name juntamento com o deal_probability. Entretanto, o modelo de regressão Logística só aceita entradas binárias, e para isso, essas três colunas foram desmembradas.\n",
    "\n",
    "A partir disso, passamos a ter 10 colunas binárias ao invès do deal_probability contínuo, e mais doze colunas, 9 de parent_category_name e 3 de user_type, todas binárias ao invès das suas versões contínuas."
   ]
  },
  {
   "cell_type": "code",
   "execution_count": 49,
   "metadata": {},
   "outputs": [
    {
     "data": {
      "text/html": [
       "<div>\n",
       "<style scoped>\n",
       "    .dataframe tbody tr th:only-of-type {\n",
       "        vertical-align: middle;\n",
       "    }\n",
       "\n",
       "    .dataframe tbody tr th {\n",
       "        vertical-align: top;\n",
       "    }\n",
       "\n",
       "    .dataframe thead th {\n",
       "        text-align: right;\n",
       "    }\n",
       "</style>\n",
       "<table border=\"1\" class=\"dataframe\">\n",
       "  <thead>\n",
       "    <tr style=\"text-align: right;\">\n",
       "      <th></th>\n",
       "      <th>index</th>\n",
       "      <th>activation_date</th>\n",
       "      <th>category_name</th>\n",
       "      <th>city</th>\n",
       "      <th>deal_probability</th>\n",
       "      <th>deal_rounded</th>\n",
       "      <th>description</th>\n",
       "      <th>image_top_1</th>\n",
       "      <th>item_id</th>\n",
       "      <th>month</th>\n",
       "      <th>...</th>\n",
       "      <th>sold_1</th>\n",
       "      <th>sold_2</th>\n",
       "      <th>sold_3</th>\n",
       "      <th>sold_4</th>\n",
       "      <th>sold_5</th>\n",
       "      <th>sold_6</th>\n",
       "      <th>sold_7</th>\n",
       "      <th>sold_8</th>\n",
       "      <th>sold_9</th>\n",
       "      <th>deal_chance</th>\n",
       "    </tr>\n",
       "  </thead>\n",
       "  <tbody>\n",
       "    <tr>\n",
       "      <th>0</th>\n",
       "      <td>0</td>\n",
       "      <td>2017-03-28</td>\n",
       "      <td>Товары для детей и игрушки</td>\n",
       "      <td>Екатеринбург</td>\n",
       "      <td>0.12789</td>\n",
       "      <td>0.2</td>\n",
       "      <td>Кокон для сна малыша,пользовались меньше месяц...</td>\n",
       "      <td>1008.0</td>\n",
       "      <td>b912c3c6a6ad</td>\n",
       "      <td>3</td>\n",
       "      <td>...</td>\n",
       "      <td>0</td>\n",
       "      <td>0</td>\n",
       "      <td>0</td>\n",
       "      <td>0</td>\n",
       "      <td>0</td>\n",
       "      <td>1</td>\n",
       "      <td>0</td>\n",
       "      <td>0</td>\n",
       "      <td>0</td>\n",
       "      <td>0</td>\n",
       "    </tr>\n",
       "    <tr>\n",
       "      <th>1</th>\n",
       "      <td>1</td>\n",
       "      <td>2017-03-26</td>\n",
       "      <td>Мебель и интерьер</td>\n",
       "      <td>Самара</td>\n",
       "      <td>0.00000</td>\n",
       "      <td>0.0</td>\n",
       "      <td>Стойка для одежды, под вешалки. С бутика.</td>\n",
       "      <td>692.0</td>\n",
       "      <td>2dac0150717d</td>\n",
       "      <td>3</td>\n",
       "      <td>...</td>\n",
       "      <td>0</td>\n",
       "      <td>0</td>\n",
       "      <td>0</td>\n",
       "      <td>0</td>\n",
       "      <td>0</td>\n",
       "      <td>0</td>\n",
       "      <td>0</td>\n",
       "      <td>0</td>\n",
       "      <td>0</td>\n",
       "      <td>0</td>\n",
       "    </tr>\n",
       "    <tr>\n",
       "      <th>2</th>\n",
       "      <td>2</td>\n",
       "      <td>2017-03-20</td>\n",
       "      <td>Аудио и видео</td>\n",
       "      <td>Ростов-на-Дону</td>\n",
       "      <td>0.43177</td>\n",
       "      <td>0.4</td>\n",
       "      <td>В хорошем состоянии, домашний кинотеатр с blu ...</td>\n",
       "      <td>3032.0</td>\n",
       "      <td>ba83aefab5dc</td>\n",
       "      <td>3</td>\n",
       "      <td>...</td>\n",
       "      <td>0</td>\n",
       "      <td>0</td>\n",
       "      <td>0</td>\n",
       "      <td>0</td>\n",
       "      <td>0</td>\n",
       "      <td>1</td>\n",
       "      <td>0</td>\n",
       "      <td>1</td>\n",
       "      <td>1</td>\n",
       "      <td>0</td>\n",
       "    </tr>\n",
       "    <tr>\n",
       "      <th>3</th>\n",
       "      <td>3</td>\n",
       "      <td>2017-03-25</td>\n",
       "      <td>Товары для детей и игрушки</td>\n",
       "      <td>Набережные Челны</td>\n",
       "      <td>0.80323</td>\n",
       "      <td>0.8</td>\n",
       "      <td>Продам кресло от0-25кг</td>\n",
       "      <td>796.0</td>\n",
       "      <td>02996f1dd2ea</td>\n",
       "      <td>3</td>\n",
       "      <td>...</td>\n",
       "      <td>1</td>\n",
       "      <td>1</td>\n",
       "      <td>1</td>\n",
       "      <td>1</td>\n",
       "      <td>1</td>\n",
       "      <td>0</td>\n",
       "      <td>0</td>\n",
       "      <td>1</td>\n",
       "      <td>1</td>\n",
       "      <td>1</td>\n",
       "    </tr>\n",
       "    <tr>\n",
       "      <th>4</th>\n",
       "      <td>4</td>\n",
       "      <td>2017-03-16</td>\n",
       "      <td>Автомобили</td>\n",
       "      <td>Волгоград</td>\n",
       "      <td>0.20797</td>\n",
       "      <td>0.2</td>\n",
       "      <td>Все вопросы по телефону.</td>\n",
       "      <td>2264.0</td>\n",
       "      <td>7c90be56d2ab</td>\n",
       "      <td>3</td>\n",
       "      <td>...</td>\n",
       "      <td>0</td>\n",
       "      <td>0</td>\n",
       "      <td>0</td>\n",
       "      <td>0</td>\n",
       "      <td>1</td>\n",
       "      <td>0</td>\n",
       "      <td>0</td>\n",
       "      <td>0</td>\n",
       "      <td>0</td>\n",
       "      <td>0</td>\n",
       "    </tr>\n",
       "  </tbody>\n",
       "</table>\n",
       "<p>5 rows × 34 columns</p>\n",
       "</div>"
      ],
      "text/plain": [
       "   index activation_date               category_name              city  \\\n",
       "0      0      2017-03-28  Товары для детей и игрушки      Екатеринбург   \n",
       "1      1      2017-03-26           Мебель и интерьер            Самара   \n",
       "2      2      2017-03-20               Аудио и видео    Ростов-на-Дону   \n",
       "3      3      2017-03-25  Товары для детей и игрушки  Набережные Челны   \n",
       "4      4      2017-03-16                  Автомобили         Волгоград   \n",
       "\n",
       "   deal_probability  deal_rounded  \\\n",
       "0           0.12789           0.2   \n",
       "1           0.00000           0.0   \n",
       "2           0.43177           0.4   \n",
       "3           0.80323           0.8   \n",
       "4           0.20797           0.2   \n",
       "\n",
       "                                         description  image_top_1  \\\n",
       "0  Кокон для сна малыша,пользовались меньше месяц...       1008.0   \n",
       "1          Стойка для одежды, под вешалки. С бутика.        692.0   \n",
       "2  В хорошем состоянии, домашний кинотеатр с blu ...       3032.0   \n",
       "3                             Продам кресло от0-25кг        796.0   \n",
       "4                           Все вопросы по телефону.       2264.0   \n",
       "\n",
       "        item_id  month     ...     sold_1 sold_2 sold_3 sold_4  sold_5 sold_6  \\\n",
       "0  b912c3c6a6ad      3     ...          0      0      0      0       0      1   \n",
       "1  2dac0150717d      3     ...          0      0      0      0       0      0   \n",
       "2  ba83aefab5dc      3     ...          0      0      0      0       0      1   \n",
       "3  02996f1dd2ea      3     ...          1      1      1      1       1      0   \n",
       "4  7c90be56d2ab      3     ...          0      0      0      0       1      0   \n",
       "\n",
       "  sold_7 sold_8 sold_9 deal_chance  \n",
       "0      0      0      0           0  \n",
       "1      0      0      0           0  \n",
       "2      0      1      1           0  \n",
       "3      0      1      1           1  \n",
       "4      0      0      0           0  \n",
       "\n",
       "[5 rows x 34 columns]"
      ]
     },
     "execution_count": 49,
     "metadata": {},
     "output_type": "execute_result"
    }
   ],
   "source": [
    "df = pd.read_pickle(dir + 'df2.pickle')\n",
    "df.fillna(0, inplace=True)\n",
    "df = df.reset_index()\n",
    "df['deal_chance'] = (df.deal_probability > 0.6) *1\n",
    "df.head()"
   ]
  },
  {
   "cell_type": "code",
   "execution_count": 50,
   "metadata": {},
   "outputs": [
    {
     "data": {
      "text/plain": [
       "Index(['index', 'activation_date', 'category_name', 'city', 'deal_probability',\n",
       "       'deal_rounded', 'description', 'image_top_1', 'item_id', 'month',\n",
       "       'param_1', 'param_2', 'param_3', 'parent_category_name', 'price',\n",
       "       'region', 'source', 'title', 'user_id', 'user_type', 'price_normal_log',\n",
       "       'price_normal', 'price_top', 'sold_0', 'sold_1', 'sold_2', 'sold_3',\n",
       "       'sold_4', 'sold_5', 'sold_6', 'sold_7', 'sold_8', 'sold_9',\n",
       "       'deal_chance', 'cat', 'cat_0', 'cat_1', 'cat_2', 'cat_3', 'cat_4',\n",
       "       'cat_5', 'cat_6', 'cat_7', 'cat_8', 'Company', 'Private', 'Shop'],\n",
       "      dtype='object')"
      ]
     },
     "execution_count": 50,
     "metadata": {},
     "output_type": "execute_result"
    }
   ],
   "source": [
    "groups = df.parent_category_name.unique()\n",
    "df['cat']=''\n",
    "for i,group in enumerate(groups):\n",
    "    df['cat_' + str(i)] = (df.parent_category_name == group) * 1\n",
    "user_type = pd.get_dummies(df.user_type)\n",
    "df = df.join(user_type)\n",
    "df.columns"
   ]
  },
  {
   "cell_type": "code",
   "execution_count": 14,
   "metadata": {},
   "outputs": [
    {
     "data": {
      "text/html": [
       "<div>\n",
       "<style scoped>\n",
       "    .dataframe tbody tr th:only-of-type {\n",
       "        vertical-align: middle;\n",
       "    }\n",
       "\n",
       "    .dataframe tbody tr th {\n",
       "        vertical-align: top;\n",
       "    }\n",
       "\n",
       "    .dataframe thead th {\n",
       "        text-align: right;\n",
       "    }\n",
       "</style>\n",
       "<table border=\"1\" class=\"dataframe\">\n",
       "  <thead>\n",
       "    <tr style=\"text-align: right;\">\n",
       "      <th></th>\n",
       "      <th>index</th>\n",
       "      <th>activation_date</th>\n",
       "      <th>category_name</th>\n",
       "      <th>city</th>\n",
       "      <th>deal_probability</th>\n",
       "      <th>deal_rounded</th>\n",
       "      <th>description</th>\n",
       "      <th>image_top_1</th>\n",
       "      <th>item_id</th>\n",
       "      <th>month</th>\n",
       "      <th>...</th>\n",
       "      <th>cat_2</th>\n",
       "      <th>cat_3</th>\n",
       "      <th>cat_4</th>\n",
       "      <th>cat_5</th>\n",
       "      <th>cat_6</th>\n",
       "      <th>cat_7</th>\n",
       "      <th>cat_8</th>\n",
       "      <th>Company</th>\n",
       "      <th>Private</th>\n",
       "      <th>Shop</th>\n",
       "    </tr>\n",
       "  </thead>\n",
       "  <tbody>\n",
       "    <tr>\n",
       "      <th>0</th>\n",
       "      <td>0</td>\n",
       "      <td>2017-03-28</td>\n",
       "      <td>Товары для детей и игрушки</td>\n",
       "      <td>Екатеринбург</td>\n",
       "      <td>0.12789</td>\n",
       "      <td>0.2</td>\n",
       "      <td>Кокон для сна малыша,пользовались меньше месяц...</td>\n",
       "      <td>1008.0</td>\n",
       "      <td>b912c3c6a6ad</td>\n",
       "      <td>3</td>\n",
       "      <td>...</td>\n",
       "      <td>0</td>\n",
       "      <td>0</td>\n",
       "      <td>0</td>\n",
       "      <td>0</td>\n",
       "      <td>0</td>\n",
       "      <td>0</td>\n",
       "      <td>0</td>\n",
       "      <td>0</td>\n",
       "      <td>1</td>\n",
       "      <td>0</td>\n",
       "    </tr>\n",
       "    <tr>\n",
       "      <th>1</th>\n",
       "      <td>1</td>\n",
       "      <td>2017-03-26</td>\n",
       "      <td>Мебель и интерьер</td>\n",
       "      <td>Самара</td>\n",
       "      <td>0.00000</td>\n",
       "      <td>0.0</td>\n",
       "      <td>Стойка для одежды, под вешалки. С бутика.</td>\n",
       "      <td>692.0</td>\n",
       "      <td>2dac0150717d</td>\n",
       "      <td>3</td>\n",
       "      <td>...</td>\n",
       "      <td>0</td>\n",
       "      <td>0</td>\n",
       "      <td>0</td>\n",
       "      <td>0</td>\n",
       "      <td>0</td>\n",
       "      <td>0</td>\n",
       "      <td>0</td>\n",
       "      <td>0</td>\n",
       "      <td>1</td>\n",
       "      <td>0</td>\n",
       "    </tr>\n",
       "    <tr>\n",
       "      <th>2</th>\n",
       "      <td>2</td>\n",
       "      <td>2017-03-20</td>\n",
       "      <td>Аудио и видео</td>\n",
       "      <td>Ростов-на-Дону</td>\n",
       "      <td>0.43177</td>\n",
       "      <td>0.4</td>\n",
       "      <td>В хорошем состоянии, домашний кинотеатр с blu ...</td>\n",
       "      <td>3032.0</td>\n",
       "      <td>ba83aefab5dc</td>\n",
       "      <td>3</td>\n",
       "      <td>...</td>\n",
       "      <td>1</td>\n",
       "      <td>0</td>\n",
       "      <td>0</td>\n",
       "      <td>0</td>\n",
       "      <td>0</td>\n",
       "      <td>0</td>\n",
       "      <td>0</td>\n",
       "      <td>0</td>\n",
       "      <td>1</td>\n",
       "      <td>0</td>\n",
       "    </tr>\n",
       "    <tr>\n",
       "      <th>3</th>\n",
       "      <td>3</td>\n",
       "      <td>2017-03-25</td>\n",
       "      <td>Товары для детей и игрушки</td>\n",
       "      <td>Набережные Челны</td>\n",
       "      <td>0.80323</td>\n",
       "      <td>0.8</td>\n",
       "      <td>Продам кресло от0-25кг</td>\n",
       "      <td>796.0</td>\n",
       "      <td>02996f1dd2ea</td>\n",
       "      <td>3</td>\n",
       "      <td>...</td>\n",
       "      <td>0</td>\n",
       "      <td>0</td>\n",
       "      <td>0</td>\n",
       "      <td>0</td>\n",
       "      <td>0</td>\n",
       "      <td>0</td>\n",
       "      <td>0</td>\n",
       "      <td>1</td>\n",
       "      <td>0</td>\n",
       "      <td>0</td>\n",
       "    </tr>\n",
       "    <tr>\n",
       "      <th>4</th>\n",
       "      <td>4</td>\n",
       "      <td>2017-03-16</td>\n",
       "      <td>Автомобили</td>\n",
       "      <td>Волгоград</td>\n",
       "      <td>0.20797</td>\n",
       "      <td>0.2</td>\n",
       "      <td>Все вопросы по телефону.</td>\n",
       "      <td>2264.0</td>\n",
       "      <td>7c90be56d2ab</td>\n",
       "      <td>3</td>\n",
       "      <td>...</td>\n",
       "      <td>0</td>\n",
       "      <td>1</td>\n",
       "      <td>0</td>\n",
       "      <td>0</td>\n",
       "      <td>0</td>\n",
       "      <td>0</td>\n",
       "      <td>0</td>\n",
       "      <td>0</td>\n",
       "      <td>1</td>\n",
       "      <td>0</td>\n",
       "    </tr>\n",
       "  </tbody>\n",
       "</table>\n",
       "<p>5 rows × 47 columns</p>\n",
       "</div>"
      ],
      "text/plain": [
       "   index activation_date               category_name              city  \\\n",
       "0      0      2017-03-28  Товары для детей и игрушки      Екатеринбург   \n",
       "1      1      2017-03-26           Мебель и интерьер            Самара   \n",
       "2      2      2017-03-20               Аудио и видео    Ростов-на-Дону   \n",
       "3      3      2017-03-25  Товары для детей и игрушки  Набережные Челны   \n",
       "4      4      2017-03-16                  Автомобили         Волгоград   \n",
       "\n",
       "   deal_probability  deal_rounded  \\\n",
       "0           0.12789           0.2   \n",
       "1           0.00000           0.0   \n",
       "2           0.43177           0.4   \n",
       "3           0.80323           0.8   \n",
       "4           0.20797           0.2   \n",
       "\n",
       "                                         description  image_top_1  \\\n",
       "0  Кокон для сна малыша,пользовались меньше месяц...       1008.0   \n",
       "1          Стойка для одежды, под вешалки. С бутика.        692.0   \n",
       "2  В хорошем состоянии, домашний кинотеатр с blu ...       3032.0   \n",
       "3                             Продам кресло от0-25кг        796.0   \n",
       "4                           Все вопросы по телефону.       2264.0   \n",
       "\n",
       "        item_id  month ...  cat_2 cat_3 cat_4 cat_5  cat_6 cat_7 cat_8  \\\n",
       "0  b912c3c6a6ad      3 ...      0     0     0     0      0     0     0   \n",
       "1  2dac0150717d      3 ...      0     0     0     0      0     0     0   \n",
       "2  ba83aefab5dc      3 ...      1     0     0     0      0     0     0   \n",
       "3  02996f1dd2ea      3 ...      0     0     0     0      0     0     0   \n",
       "4  7c90be56d2ab      3 ...      0     1     0     0      0     0     0   \n",
       "\n",
       "  Company Private Shop  \n",
       "0       0       1    0  \n",
       "1       0       1    0  \n",
       "2       0       1    0  \n",
       "3       1       0    0  \n",
       "4       0       1    0  \n",
       "\n",
       "[5 rows x 47 columns]"
      ]
     },
     "execution_count": 14,
     "metadata": {},
     "output_type": "execute_result"
    }
   ],
   "source": [
    "df.head()"
   ]
  },
  {
   "cell_type": "markdown",
   "metadata": {},
   "source": [
    "### 3.4- Regressão Logística\n",
    "\n",
    "Com a base já montada, foi feito dois testes iniciais com regressão logística, onde as variáveis de train receberam tudo da base 'train' e a variável de teste, tudo da base 'test'. Organizou-se as variáveis de predição, target, test e label e foi dado inicio ao modelo. É importante mencionar que a variável 'y_pred' nos dá ambas as probabilidades, de não vender [0] e de vender, [1]. Entretanto, o objetivo do teste é focado na probabilidade de venda. Ao final, o resultado foi gravado em um arquivo txt para submissão.\n",
    "\n",
    "Na saída, temos primeiramente a taxa de acerto do modelo, que na primeira tentativa chegou-se a 86% e em seguida a média da variável alvo, a média da variavél de predição e todos os valores preditos.\n",
    "\n",
    "Para o segunda teste, foi seguido o mesmo modelo, com o mesmo protocolo de escrita do código, mudando apenas o parametro C da regressão Logística, cujo qual se refere a força de regularização do modelo onde valores menores especificam regularização mais fortes. Com isso, a taxa de acerto da segunda tentativa subiu para quase 89%."
   ]
  },
  {
   "cell_type": "code",
   "execution_count": 27,
   "metadata": {},
   "outputs": [
    {
     "data": {
      "text/plain": [
       "0.8608369960836065"
      ]
     },
     "metadata": {},
     "output_type": "display_data"
    },
    {
     "name": "stdout",
     "output_type": "stream",
     "text": [
      "0.13915834787791068\n",
      "0.1437716476155714\n",
      "[0.0794548  0.14782958 0.18697061 ... 0.08002606 0.40982857 0.07581857]\n"
     ]
    }
   ],
   "source": [
    "X_train = df[df['source'] == 'train']\n",
    "y_train = df[df['source'] == 'train']\n",
    "X_test = df[df['source'] == 'test']\n",
    "\n",
    "predictors = X_train[['price_normal','price_normal_log','price_top','Private','Shop','cat_0','cat_1','cat_2','cat_3','cat_4','cat_5','cat_6','cat_7']].values\n",
    "target     = X_train['sold_0'].values\n",
    "test       = X_test[['price_normal','price_normal_log','price_top','Private','Shop','cat_0','cat_1','cat_2','cat_3','cat_4','cat_5','cat_6','cat_7']].values\n",
    "label      = X_test['item_id'].values\n",
    "\n",
    "model = LogisticRegression(C=5.0, random_state=0)\n",
    "model.fit(predictors, target)\n",
    "display(model.score(predictors,target))\n",
    "y_pred = model.predict_proba(test)[:,1]\n",
    "\n",
    "print(target.mean())\n",
    "print(np.mean(y_pred))\n",
    "print(y_pred)\n",
    "\n",
    "with open(dir + 'submissions/00001.csv', 'w') as f:\n",
    "    f.write('item_id,deal_probability'+ \"\\r\\n\")\n",
    "    for label_, predict_ in zip(label, y_pred):\n",
    "        f.write(label_ + ',' + str(np.round(predict_,4)) + \"\\r\\n\")\n",
    "        \n",
    "#### SCORE 0.2510"
   ]
  },
  {
   "cell_type": "code",
   "execution_count": 28,
   "metadata": {},
   "outputs": [
    {
     "data": {
      "text/plain": [
       "0.8878353678004343"
      ]
     },
     "metadata": {},
     "output_type": "display_data"
    },
    {
     "name": "stdout",
     "output_type": "stream",
     "text": [
      "0.11216130645779235\n",
      "0.11482288390438741\n",
      "[0.07276252 0.13173594 0.16779363 ... 0.07365233 0.24878448 0.04735115]\n"
     ]
    }
   ],
   "source": [
    "X_train = df[df['source'] == 'train']\n",
    "y_train = df[df['source'] == 'train']\n",
    "X_test = df[df['source'] == 'test']\n",
    "\n",
    "predictors = X_train[['price_normal','price_normal_log','price_top','Private','Shop','cat_0','cat_1','cat_2','cat_3','cat_4','cat_5','cat_6','cat_7']].values\n",
    "target     = X_train['deal_chance'].values\n",
    "test       = X_test[['price_normal','price_normal_log','price_top','Private','Shop','cat_0','cat_1','cat_2','cat_3','cat_4','cat_5','cat_6','cat_7']].values\n",
    "label      = X_test['item_id'].values\n",
    "\n",
    "model = LogisticRegression(C=1.0, random_state=0)\n",
    "model.fit(predictors, target)\n",
    "display(model.score(predictors,target))\n",
    "y_pred = model.predict_proba(test)[:,1]\n",
    "\n",
    "print(target.mean())\n",
    "print(np.mean(y_pred))\n",
    "print(y_pred)\n",
    "\n",
    "with open(dir + 'submissions/00002.csv', 'w') as f:\n",
    "    f.write('item_id,deal_probability'+ \"\\r\\n\")\n",
    "    for label_, predict_ in zip(label, y_pred):\n",
    "        f.write(label_ + ',' + str(np.round(predict_,4)) + \"\\r\\n\")\n",
    "        \n",
    "#### SCORE 0.2556"
   ]
  },
  {
   "cell_type": "markdown",
   "metadata": {},
   "source": [
    "Para o terceiro teste, foi executado o modelo 10 vezes para as colunas de sold, que como já foi dito anteriormente, se refere a coluna de deal_probability mas em binário. Logo, para cada uma dessas colunas foi executado a regressão logística mantendo o valor de C=1.0.\n",
    "\n",
    "Foi observado então, que todas as colunas tiveram um valor aproximado em 86%, mesmo com o valor de C reduzido. Apesar disso, nas submissões, foi observado que este terceiro teste teve um score bem parecido com o primeiro teste, com uma diferença de apenas 0.0001, e mesmo caindo 2% na taxa de acurácia, em relação ao teste anterior, foi melhor em score de submissão."
   ]
  },
  {
   "cell_type": "code",
   "execution_count": 30,
   "metadata": {},
   "outputs": [
    {
     "data": {
      "text/plain": [
       "0.8608369960836065"
      ]
     },
     "metadata": {},
     "output_type": "display_data"
    },
    {
     "data": {
      "text/plain": [
       "0.8605915563407263"
      ]
     },
     "metadata": {},
     "output_type": "display_data"
    },
    {
     "data": {
      "text/plain": [
       "0.8609114926993316"
      ]
     },
     "metadata": {},
     "output_type": "display_data"
    },
    {
     "data": {
      "text/plain": [
       "0.8607944265889064"
      ]
     },
     "metadata": {},
     "output_type": "display_data"
    },
    {
     "data": {
      "text/plain": [
       "0.8606673832531608"
      ]
     },
     "metadata": {},
     "output_type": "display_data"
    },
    {
     "data": {
      "text/plain": [
       "0.860810390149419"
      ]
     },
     "metadata": {},
     "output_type": "display_data"
    },
    {
     "data": {
      "text/plain": [
       "0.8610890873100336"
      ]
     },
     "metadata": {},
     "output_type": "display_data"
    },
    {
     "data": {
      "text/plain": [
       "0.8605489868460261"
      ]
     },
     "metadata": {},
     "output_type": "display_data"
    },
    {
     "data": {
      "text/plain": [
       "0.8605157294282917"
      ]
     },
     "metadata": {},
     "output_type": "display_data"
    },
    {
     "data": {
      "text/plain": [
       "0.8608137158911924"
      ]
     },
     "metadata": {},
     "output_type": "display_data"
    },
    {
     "name": "stdout",
     "output_type": "stream",
     "text": [
      "0.1391809629219701\n",
      "0.14382483593094558\n",
      "[0.07939672 0.14674548 0.18713147 ... 0.07996054 0.41175167 0.07421595]\n"
     ]
    }
   ],
   "source": [
    "X_train = df[df['source'] == 'train']\n",
    "y_train = df[df['source'] == 'train']\n",
    "X_test = df[df['source'] == 'test']\n",
    "\n",
    "test       = X_test[['price_normal','price_normal_log','price_top','Private','Shop','cat_0','cat_1','cat_2','cat_3','cat_4','cat_5','cat_6','cat_7']].values\n",
    "label      = X_test['item_id'].values\n",
    "predictors = X_train[['price_normal','price_normal_log','price_top','Private','Shop','cat_0','cat_1','cat_2','cat_3','cat_4','cat_5','cat_6','cat_7']].values\n",
    "\n",
    "result = []\n",
    "for g in range(10):\n",
    "    target = X_train['sold_' + str(g)].values\n",
    "    model  = LogisticRegression(C=1.0, random_state=0)\n",
    "    model.fit(predictors, target)\n",
    "    display(model.score(predictors,target))\n",
    "    y_pred = model.predict_proba(test)[:,1]\n",
    "    result.append(y_pred)\n",
    "\n",
    "y_pred2 = []\n",
    "for i in range(len(y_pred)):\n",
    "    f = 0\n",
    "    for g in range(10):\n",
    "        f +=  result[g][i]/10\n",
    "    y_pred2.append(f)\n",
    "    \n",
    "print(target.mean())\n",
    "print(np.mean(y_pred))\n",
    "print(y_pred)\n",
    "\n",
    "with open(dir + 'submissions/00003.csv', 'w') as f:\n",
    "    f.write('item_id,deal_probability'+ \"\\n\")\n",
    "    for label_, predict_ in zip(label, y_pred2):\n",
    "        f.write(label_ + ',' + str(np.round(predict_,4)) + \"\\n\")\n",
    "        \n",
    "#### SCORE 0.2511"
   ]
  },
  {
   "cell_type": "markdown",
   "metadata": {},
   "source": [
    "### 3.5- Regressão Linear\n",
    "\n",
    "Por fim, testou-se a ultima abordagem: regressão linear. A estratégia de montagem do algortimo foi a mesma dos testes anteriores. As diferenças foram apenas no modelo em si, e na utilização do deal_probabbility como target. \n",
    "\n",
    "Podemos ver então, que o resultado da acurácia ficou muito baixo, por volta 11%. Isso pode nos mostrar que o modelo previu muito valores "
   ]
  },
  {
   "cell_type": "code",
   "execution_count": 37,
   "metadata": {},
   "outputs": [
    {
     "data": {
      "text/plain": [
       "0.11143490760183972"
      ]
     },
     "metadata": {},
     "output_type": "display_data"
    },
    {
     "name": "stdout",
     "output_type": "stream",
     "text": [
      "0.13913057577902177\n",
      "0.13991851371100106\n",
      "[0.08270784 0.15046021 0.1871146  ... 0.08344773 0.40809342 0.09394676]\n"
     ]
    }
   ],
   "source": [
    "X_train = df[df['source'] == 'train']\n",
    "y_train = df[df['source'] == 'train']\n",
    "X_test = df[df['source'] == 'test']\n",
    "\n",
    "predictors = X_train[['price_normal','price_normal_log','price_top','Private','Shop','cat_0','cat_1','cat_2','cat_3','cat_4','cat_5','cat_6','cat_7']].values\n",
    "target     = X_train['deal_probability'].values\n",
    "test       = X_test[['price_normal','price_normal_log','price_top','Private','Shop','cat_0','cat_1','cat_2','cat_3','cat_4','cat_5','cat_6','cat_7']].values\n",
    "label      = X_test['item_id'].values\n",
    "\n",
    "model = LinearRegression()\n",
    "model.fit(predictors, target)\n",
    "display(model.score(predictors,target))\n",
    "y_pred = model.predict(test)\n",
    "\n",
    "print(target.mean())\n",
    "print(np.mean(y_pred))\n",
    "print(y_pred)\n",
    "\n",
    "with open(dir + 'submissions/00004.csv', 'w') as f:\n",
    "    f.write('item_id,deal_probability\\n')\n",
    "    for label_, predict_ in zip(label, y_pred):\n",
    "        f.write(label_ + ',' + str(np.round(predict_,4).clip(0,0.99))+ '\\n')\n",
    "        \n",
    "#### SCORE 0.2513"
   ]
  },
  {
   "cell_type": "markdown",
   "metadata": {},
   "source": [
    "### 4. Conclusão\n",
    "\n",
    "Pela observação dos aspectos analisados constatou-se diversos resultados relevantes para o tratamento do problema em questão. Dentro do escopo das análises estatísticas, foi possível perceber diversos padrões de valores, tempo, e perfil de usuário que podem ser levados em consideração na hora de um anunciante ofertar o produto na plataforma Avito.\n",
    "\n",
    "Na análise textual feita em cima das descrições dos produtos, não foi constatado um padrão de termos ou palavras, umas vez que as grandes categorias de anúncios podem ser completamente distintas umas das outras.\n",
    "\n",
    "Já na análise com os modelos de machine learning, foi possivel observar que dentre as três abordagem usadas, (naive bayes, regressão logística e regressão linear) a que mais se sobressaiu foi a de regressão logística, com melhores resultados de acurácia.\n",
    "\n",
    "Analisando todas as abordagens em conjunto, foi possivel entender a essência do problema e dos dados e correlacionar as variáveis pertinentes utilizand tudo o que foi mostrado neste trabalho podendo assim dar uma resposta mais precisa sobre a probabilidade de compra ou não de um produto. E estes modelos, juntamento com as analises feitas em cima das categorias, preços e usuários, permitem que os anunciantes possam traçar uma estratégia melhor, um publico melhor, uma descrição melhor para os seus anúncios."
   ]
  },
  {
   "cell_type": "code",
   "execution_count": null,
   "metadata": {},
   "outputs": [],
   "source": []
  }
 ],
 "metadata": {
  "kernelspec": {
   "display_name": "Python 3",
   "language": "python",
   "name": "python3"
  },
  "language_info": {
   "codemirror_mode": {
    "name": "ipython",
    "version": 3
   },
   "file_extension": ".py",
   "mimetype": "text/x-python",
   "name": "python",
   "nbconvert_exporter": "python",
   "pygments_lexer": "ipython3",
   "version": "3.6.4"
  }
 },
 "nbformat": 4,
 "nbformat_minor": 2
}
